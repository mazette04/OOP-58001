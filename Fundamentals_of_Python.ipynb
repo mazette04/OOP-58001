{
  "nbformat": 4,
  "nbformat_minor": 0,
  "metadata": {
    "colab": {
      "name": "Fundamentals of Python.ipynb",
      "provenance": [],
      "authorship_tag": "ABX9TyNgWHH6/vtMaPeZEUwrbzR5",
      "include_colab_link": true
    },
    "kernelspec": {
      "name": "python3",
      "display_name": "Python 3"
    },
    "language_info": {
      "name": "python"
    }
  },
  "cells": [
    {
      "cell_type": "markdown",
      "metadata": {
        "id": "view-in-github",
        "colab_type": "text"
      },
      "source": [
        "<a href=\"https://colab.research.google.com/github/mazette04/OOP-58001/blob/main/Fundamentals_of_Python.ipynb\" target=\"_parent\"><img src=\"https://colab.research.google.com/assets/colab-badge.svg\" alt=\"Open In Colab\"/></a>"
      ]
    },
    {
      "cell_type": "markdown",
      "source": [
        "#Fundamentals of Python"
      ],
      "metadata": {
        "id": "idCcY47qj1ZL"
      }
    },
    {
      "cell_type": "markdown",
      "source": [
        "Python Variables"
      ],
      "metadata": {
        "id": "GTUeaBhWkXPL"
      }
    },
    {
      "cell_type": "code",
      "source": [
        "x =float(1)\n",
        "\n",
        "a,b,c=\"Sally\", \"John\",\"Ana\"\n",
        "a, b, c = 0, -1, 2\n",
        "\n",
        "print('This a sample') \n",
        "print(a)\n",
        "print(c)"
      ],
      "metadata": {
        "colab": {
          "base_uri": "https://localhost:8080/"
        },
        "id": "Rd6UBgWHkb3r",
        "outputId": "23c517eb-8cd2-414d-e9a9-8458f040ca9b"
      },
      "execution_count": 9,
      "outputs": [
        {
          "output_type": "stream",
          "name": "stdout",
          "text": [
            "This a sample\n",
            "0\n",
            "2\n"
          ]
        }
      ]
    },
    {
      "cell_type": "markdown",
      "source": [
        "Casting"
      ],
      "metadata": {
        "id": "c6madLohmIcZ"
      }
    },
    {
      "cell_type": "code",
      "source": [
        "print(x)"
      ],
      "metadata": {
        "colab": {
          "base_uri": "https://localhost:8080/"
        },
        "id": "b2na4rTmmUlP",
        "outputId": "1412b1b3-9d53-4e82-f9f6-868f0919b6a9"
      },
      "execution_count": 10,
      "outputs": [
        {
          "output_type": "stream",
          "name": "stdout",
          "text": [
            "1.0\n"
          ]
        }
      ]
    },
    {
      "cell_type": "markdown",
      "source": [
        "Type() Function"
      ],
      "metadata": {
        "id": "A7cL4jusmsGn"
      }
    },
    {
      "cell_type": "code",
      "source": [
        "y = \"Johnny\"\n",
        "\n",
        "print(type(y))\n",
        "print(type(x))"
      ],
      "metadata": {
        "colab": {
          "base_uri": "https://localhost:8080/"
        },
        "id": "04vOJd_ymwdN",
        "outputId": "0eb9fbb8-7a79-4c18-bb03-a01c127b6e92"
      },
      "execution_count": 12,
      "outputs": [
        {
          "output_type": "stream",
          "name": "stdout",
          "text": [
            "<class 'str'>\n",
            "<class 'float'>\n"
          ]
        }
      ]
    },
    {
      "cell_type": "markdown",
      "source": [
        "Double quotes and Single quotes"
      ],
      "metadata": {
        "id": "koYibojTnovt"
      }
    },
    {
      "cell_type": "code",
      "source": [
        "#h = \"Maria\"\n",
        "h = 'Maria'\n",
        "v = 1\n",
        "V = 2\n",
        "\n",
        "print(h)\n",
        "print(v)\n",
        "print(V)"
      ],
      "metadata": {
        "colab": {
          "base_uri": "https://localhost:8080/"
        },
        "id": "QhGoD1r3ntpX",
        "outputId": "544be9c0-ed43-46e1-a51b-25321009adfd"
      },
      "execution_count": 19,
      "outputs": [
        {
          "output_type": "stream",
          "name": "stdout",
          "text": [
            "Maria\n",
            "1\n",
            "2\n"
          ]
        }
      ]
    },
    {
      "cell_type": "markdown",
      "source": [
        "Multiple Variables"
      ],
      "metadata": {
        "id": "7E0vwRV0pH3x"
      }
    },
    {
      "cell_type": "code",
      "source": [
        "x,y,z = \"one\", \"two\", 'three'\n",
        "\n",
        "print(x)\n",
        "print(y)\n",
        "print(z)\n",
        "print(x,y,z)\n",
        "print(type(x))\n",
        "print(type(y))\n",
        "print(type(z))"
      ],
      "metadata": {
        "colab": {
          "base_uri": "https://localhost:8080/"
        },
        "id": "DUo4e0RGpKWd",
        "outputId": "cf0819b8-1683-4d0f-88b8-9031a069f61d"
      },
      "execution_count": 26,
      "outputs": [
        {
          "output_type": "stream",
          "name": "stdout",
          "text": [
            "one\n",
            "two\n",
            "three\n",
            "one two three\n",
            "<class 'str'>\n",
            "<class 'str'>\n",
            "<class 'str'>\n"
          ]
        }
      ]
    },
    {
      "cell_type": "markdown",
      "source": [
        "One Value to Multiple Variables"
      ],
      "metadata": {
        "id": "VeWBZ0QEqmjO"
      }
    },
    {
      "cell_type": "code",
      "source": [
        "x = y = z = \"Stella\"\n",
        "print(x,y,z)\n",
        "print(x)\n",
        "print(y)\n",
        "print(z)"
      ],
      "metadata": {
        "colab": {
          "base_uri": "https://localhost:8080/"
        },
        "id": "gMwi38NiqqlI",
        "outputId": "6c2f73c8-c7bd-4d07-a959-f7e6d6e0696e"
      },
      "execution_count": 28,
      "outputs": [
        {
          "output_type": "stream",
          "name": "stdout",
          "text": [
            "Stella Stella Stella\n",
            "Stella\n",
            "Stella\n",
            "Stella\n"
          ]
        }
      ]
    },
    {
      "cell_type": "markdown",
      "source": [
        "Output Variables"
      ],
      "metadata": {
        "id": "p3UCFkZlrHNs"
      }
    },
    {
      "cell_type": "code",
      "source": [
        "x = \"enjoying\"\n",
        "y = \"Python is\"\n",
        "\n",
        "print(y + \" \" + x)"
      ],
      "metadata": {
        "colab": {
          "base_uri": "https://localhost:8080/"
        },
        "id": "kC_oTSsorK_9",
        "outputId": "85a52c7c-35a8-460e-fe1b-32074413b928"
      },
      "execution_count": 31,
      "outputs": [
        {
          "output_type": "stream",
          "name": "stdout",
          "text": [
            "Python is enjoying\n"
          ]
        }
      ]
    }
  ]
}