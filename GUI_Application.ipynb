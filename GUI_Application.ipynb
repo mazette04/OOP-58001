{
  "nbformat": 4,
  "nbformat_minor": 0,
  "metadata": {
    "colab": {
      "name": "GUI Application.ipynb",
      "provenance": [],
      "authorship_tag": "ABX9TyMVa8gOVtTPf2SQiLr4eJy7",
      "include_colab_link": true
    },
    "kernelspec": {
      "name": "python3",
      "display_name": "Python 3"
    },
    "language_info": {
      "name": "python"
    }
  },
  "cells": [
    {
      "cell_type": "markdown",
      "metadata": {
        "id": "view-in-github",
        "colab_type": "text"
      },
      "source": [
        "<a href=\"https://colab.research.google.com/github/mazette04/OOP-58001/blob/main/GUI_Application.ipynb\" target=\"_parent\"><img src=\"https://colab.research.google.com/assets/colab-badge.svg\" alt=\"Open In Colab\"/></a>"
      ]
    },
    {
      "cell_type": "markdown",
      "source": [
        "Create a Python Program that displays the grades of the students "
      ],
      "metadata": {
        "id": "weazobfr_iGU"
      }
    },
    {
      "cell_type": "code",
      "execution_count": 6,
      "metadata": {
        "colab": {
          "base_uri": "https://localhost:8080/"
        },
        "id": "7TqtzTGQ_bqT",
        "outputId": "8e47ca93-aa6a-4d3b-b34a-44889869d4c1"
      },
      "outputs": [
        {
          "output_type": "stream",
          "name": "stdout",
          "text": [
            "Student_Name:Maria Rizette H. Sayo\n",
            "semstral grade of the student:90.0\n"
          ]
        }
      ],
      "source": [
        "#@title Students' Grade in Object-oriented Programming\n",
        "\n",
        "Student_Name = \"Maria Rizette H. Sayo\" #@param {type: \"string\"}\n",
        "prelim =   90#@param {type: \"number\"}\n",
        "midterm =   90#@param {type: \"number\"}\n",
        "final =   90#@param {type: \"number\"}\n",
        "semestral = prelim*0.30+midterm*0.30+final*0.40\n",
        "\n",
        "print(\"Student_Name\" + \":\" + Student_Name)\n",
        "print(\"semstral grade of the student\"+ \":\" + str(semestral))\n"
      ]
    },
    {
      "cell_type": "code",
      "source": [
        "#@title Gender\n",
        "\n",
        "Gender = \"Male\" #@param [\"Male\",\"Female\"]\n",
        "\n",
        "Birthdate = '2022-03-10' #@param {type:\"date\"}\n",
        "\n",
        "print(\"My birthdate is\" + Birthdate)\n",
        "print(\"My gender is\" + Gender)"
      ],
      "metadata": {
        "colab": {
          "base_uri": "https://localhost:8080/"
        },
        "id": "a1EOZ_7zDwSH",
        "outputId": "271ec73f-b601-4f71-eafb-29dcc391233e"
      },
      "execution_count": 10,
      "outputs": [
        {
          "output_type": "stream",
          "name": "stdout",
          "text": [
            "My birthdate is2022-03-10\n",
            "My gender isMale\n"
          ]
        }
      ]
    }
  ]
}